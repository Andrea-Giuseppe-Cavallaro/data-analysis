{
  "nbformat": 4,
  "nbformat_minor": 0,
  "metadata": {
    "colab": {
      "provenance": [],
      "authorship_tag": "ABX9TyPVmxOyAXvVEI0OQEQBcuyo",
      "include_colab_link": true
    },
    "kernelspec": {
      "name": "python3",
      "display_name": "Python 3"
    },
    "language_info": {
      "name": "python"
    }
  },
  "cells": [
    {
      "cell_type": "markdown",
      "metadata": {
        "id": "view-in-github",
        "colab_type": "text"
      },
      "source": [
        "<a href=\"https://colab.research.google.com/github/Andrea-Giuseppe-Cavallaro/data-analysis/blob/main/airBnb.ipynb\" target=\"_parent\"><img src=\"https://colab.research.google.com/assets/colab-badge.svg\" alt=\"Open In Colab\"/></a>"
      ]
    },
    {
      "cell_type": "markdown",
      "source": [
        "## Importo librerie"
      ],
      "metadata": {
        "id": "i8bFyuPVDKJc"
      }
    },
    {
      "cell_type": "code",
      "execution_count": null,
      "metadata": {
        "id": "xal_BAReC_hk"
      },
      "outputs": [],
      "source": [
        "import numpy as np\n",
        "import pandas as pd\n",
        "import matplotlib.pyplot as plt\n",
        "import seaborn as sns\n",
        "from collections import Counter\n",
        "import plotly.graph_objects as go\n",
        "import plotly.colors as pc\n",
        "from google.colab import drive\n",
        "import os"
      ]
    },
    {
      "cell_type": "markdown",
      "source": [
        "## Caricamento CSV e Macroanalisi"
      ],
      "metadata": {
        "id": "A6fwpKtcDQyD"
      }
    },
    {
      "cell_type": "code",
      "source": [
        "# Montaggio Google Drive\n",
        "drive.mount('/content/drive')\n",
        "# Cambio directory di lavoro\n",
        "os.chdir('/content/drive/MyDrive/Colab Notebooks/EsameDataAnalisi')"
      ],
      "metadata": {
        "id": "FOjhJEd6Dmxa"
      },
      "execution_count": null,
      "outputs": []
    },
    {
      "cell_type": "code",
      "source": [
        "# Caricamento dataset\n",
        "listings = pd.read_csv('listings.csv', sep=',')\n",
        "reviews = pd.read_csv('reviews.csv', sep=',')\n",
        "listings_df = pd.DataFrame(listings)\n",
        "reviews_df = pd.DataFrame(reviews)"
      ],
      "metadata": {
        "id": "YQobtHdnE4EG"
      },
      "execution_count": null,
      "outputs": []
    },
    {
      "cell_type": "code",
      "source": [
        "print(f\"Dataset caricati:\")\n",
        "print(f\"- Listings: {listings.shape[0]} righe, {listings.shape[1]} colonne\")\n",
        "print(f\"- Reviews: {reviews.shape[0]} righe, {reviews.shape[1]} colonne\")"
      ],
      "metadata": {
        "id": "WsZoyaKvD-tj"
      },
      "execution_count": null,
      "outputs": []
    },
    {
      "cell_type": "code",
      "source": [
        "print(f\"- Listings: {listings.info()}\")\n",
        "print(f\"- Reviews: {reviews.info()}\")"
      ],
      "metadata": {
        "id": "nWVvY3hUFMXb"
      },
      "execution_count": null,
      "outputs": []
    },
    {
      "cell_type": "code",
      "source": [
        "print(f\"Dataset head:\")\n",
        "print(f\"- Listings: {listings.head()}\")\n",
        "print(f\"- Reviews: {reviews.head()}\")"
      ],
      "metadata": {
        "id": "a74FpZ2kFV07"
      },
      "execution_count": null,
      "outputs": []
    },
    {
      "cell_type": "code",
      "source": [
        "print(f\"Dataset describe:\")\n",
        "print(f\"- Listings: {listings.describe()}\")\n",
        "print(f\"- Reviews: {reviews.describe()}\")"
      ],
      "metadata": {
        "id": "PDvnsnN2Fd16"
      },
      "execution_count": null,
      "outputs": []
    },
    {
      "cell_type": "code",
      "source": [
        "print(f\"Dataset value_counts:\")\n",
        "print(f\"- Listings: {listings['price'].value_counts(dropna=False)}\")"
      ],
      "metadata": {
        "id": "YVSazajdFxV8"
      },
      "execution_count": null,
      "outputs": []
    },
    {
      "cell_type": "code",
      "source": [
        "print(f\"Dataset value_counts:\")\n",
        "print(f\"- Reviews: {listings['room_type'].value_counts(dropna=False)}\")"
      ],
      "metadata": {
        "id": "XXOFN9BdGOPs"
      },
      "execution_count": null,
      "outputs": []
    },
    {
      "cell_type": "code",
      "source": [
        "print(f\"Dataset value_counts:\")\n",
        "print(f\"- Reviews: {listings['accommodates'].value_counts(dropna=False)}\")"
      ],
      "metadata": {
        "id": "3Iy2d16oGazH"
      },
      "execution_count": null,
      "outputs": []
    },
    {
      "cell_type": "markdown",
      "source": [
        "## Pulizia dati e costruzione dataset"
      ],
      "metadata": {
        "id": "q5ZcIoeuHKct"
      }
    },
    {
      "cell_type": "code",
      "source": [
        "# Pulizia colonna price - rimozione valori null e conversione a float\n",
        "listings.dropna(subset=['price'], inplace=True)\n",
        "listings['price_clean'] = listings['price'].replace('[\\\\$,]', '', regex=True).astype(float)"
      ],
      "metadata": {
        "id": "4AgawGCsHNog"
      },
      "execution_count": null,
      "outputs": []
    },
    {
      "cell_type": "code",
      "source": [
        "# Aggiunta conteggio recensioni per ogni listing\n",
        "review_count = reviews['listing_id'].value_counts().reset_index()\n",
        "review_count.columns = ['id', 'review_count']\n",
        "listings = pd.merge(listings, review_count, on='id', how='left')"
      ],
      "metadata": {
        "id": "bW3hoqVTHXTq"
      },
      "execution_count": null,
      "outputs": []
    },
    {
      "cell_type": "code",
      "source": [
        "# Definizione aree della provincia di Catania\n",
        "catania_areas = [\n",
        "    \"Aci Bonaccorsi\", \"Aci Castello\", \"Aci Catena\", \"Aci Sant'Antonio\",\n",
        "    \"Acireale\", \"Adrano\", \"Belpasso\", \"Biancavilla\", \"Bronte\",\n",
        "    \"Calatabiano\", \"Caltagirone\", \"Camporotondo Etneo\", \"Castel di Iudica\",\n",
        "    \"Castiglione di Sicilia\", \"Catania\", \"Fiumefreddo di Sicilia\",\n",
        "    \"Giarre\", \"Grammichele\", \"Gravina di Catania\", \"Licodia Eubea\",\n",
        "    \"Linguaglossa\", \"Maletto\", \"Maniace\", \"Mascali\", \"Mascalucia\",\n",
        "    \"Mazzarrone\", \"Militello in Val di Catania\", \"Milo\", \"Mineo\",\n",
        "    \"Mirabella Imbaccari\", \"Misterbianco\", \"Motta Sant'Anastasia\",\n",
        "    \"Nicolosi\", \"Palagonia\", \"Paternò\", \"Pedara\", \"Piedimonte Etneo\",\n",
        "    \"Raddusa\", \"Ragalna\", \"Ramacca\", \"Randazzo\", \"Riposto\",\n",
        "    \"San Cono\", \"San Giovanni la Punta\", \"San Gregorio di Catania\",\n",
        "    \"San Michele di Ganzaria\", \"San Pietro Clarenza\",\n",
        "    \"Sant'Agata li Battiati\", \"Sant'Alfio\", \"Santa Maria di Licodia\",\n",
        "    \"Santa Venerina\", \"Scordia\", \"Trecastagni\", \"Tremestieri Etneo\",\n",
        "    \"Valverde\", \"Viagrande\", \"Vizzini\", \"Zafferana Etnea\"\n",
        "]\n",
        "\n",
        "# Filtro per aree di Catania\n",
        "listings = listings[listings['neighbourhood_cleansed'].isin(catania_areas)]"
      ],
      "metadata": {
        "id": "5wNOWyAsHbhA"
      },
      "execution_count": null,
      "outputs": []
    },
    {
      "cell_type": "code",
      "source": [
        "# Conversione date e filtro per host attivi\n",
        "reviews['date'] = pd.to_datetime(reviews['date'])\n",
        "\n",
        "# Trova ultima recensione per ogni listing per identificare host attivi\n",
        "latest_review_date = reviews.groupby('listing_id')['date'].max().reset_index()\n",
        "latest_review_date.columns = ['id', 'latest_review_date']\n",
        "listings = pd.merge(listings, latest_review_date, on='id', how='left')\n",
        "\n",
        "# Rimuovi host con ultima recensione prima del 2024 (inattivi)\n",
        "hosts_to_remove = listings[listings['latest_review_date'] < '2024-01-01']['host_id'].unique()\n",
        "listings = listings[~listings['host_id'].isin(hosts_to_remove)]\n",
        "\n",
        "# Trova prima recensione per ogni host per escludere nuovi host 2025\n",
        "first_review_year = reviews.groupby('listing_id')['date'].min().dt.year.reset_index()\n",
        "first_review_year.columns = ['host_id', 'first_review_year']\n",
        "listings = pd.merge(listings, first_review_year, on='host_id', how='left')\n",
        "\n",
        "# Rimuovi host con prima recensione nel 2025\n",
        "hosts_2025 = listings[listings['first_review_year'] == 2025]['host_id'].unique()\n",
        "listings = listings[~listings['host_id'].isin(hosts_2025)]"
      ],
      "metadata": {
        "id": "MTcIeGEFHiea"
      },
      "execution_count": null,
      "outputs": []
    },
    {
      "cell_type": "code",
      "source": [
        "# Rimozione outlier di prezzo usando 95° percentile\n",
        "price_threshold = listings['price_clean'].quantile(0.95)\n",
        "listings = listings[listings['price_clean'] <= price_threshold].copy()"
      ],
      "metadata": {
        "id": "QR4DYzyFIVtb"
      },
      "execution_count": null,
      "outputs": []
    },
    {
      "cell_type": "code",
      "source": [
        "# Filtro per tipi di stanza rilevanti (esclude hotel room e shared room)\n",
        "listings = listings[listings['room_type'].isin(['Entire home/apt', 'Private room'])].copy()"
      ],
      "metadata": {
        "id": "baLq4ffaIclk"
      },
      "execution_count": null,
      "outputs": []
    },
    {
      "cell_type": "code",
      "source": [
        "# Creazione gruppi per numero di persone ospitabili\n",
        "listings['accommodates_group'] = np.where(listings['accommodates'] >= 8, '8 o più',\n",
        "                                         listings['accommodates'].astype(str))\n",
        "\n",
        "print(f\"Dataset prima pulizia:\")\n",
        "print(f\"- Listings: {len(listings_df)} annunci\")\n",
        "print(f\"- Host unici: {listings_df['host_id'].nunique()}\")\n",
        "print(f\"- Tipi di stanza: {listings_df['room_type'].unique()}\")\n",
        "\n",
        "print(f\"\\nDataset dopo pulizia:\")\n",
        "print(f\"- Listings: {len(listings)} annunci\")\n",
        "print(f\"- Host unici: {listings['host_id'].nunique()}\")\n",
        "print(f\"- Limite prezzo (95° percentile): ${price_threshold:.2f}\")\n",
        "print(f\"- Tipi di stanza: {listings['room_type'].unique()}\")"
      ],
      "metadata": {
        "id": "hEQBrvWRIgmM"
      },
      "execution_count": null,
      "outputs": []
    },
    {
      "cell_type": "markdown",
      "source": [
        "## Panoramice Dataset"
      ],
      "metadata": {
        "id": "80MO6DfLKFQ9"
      }
    },
    {
      "cell_type": "code",
      "source": [
        "# Statistiche generali\n",
        "print(f\"Totale annunci: {len(listings)}\")\n",
        "print(f\"Annunci unici: {listings['id'].nunique()}\")\n",
        "print(f\"Host unici: {listings['host_id'].nunique()}\")\n",
        "print(f\"Tipi di stanza disponibili: {listings['room_type'].unique()}\")\n",
        "print(f\"Media dei prezzi: ${listings['price_clean'].mean():.2f}\")\n",
        "print(f\"Mediana dei prezzi: ${listings['price_clean'].median():.2f}\")\n",
        "\n",
        "sns.histplot(data=listings, x='price_clean', bins=50, kde=True)\n",
        "plt.show()"
      ],
      "metadata": {
        "id": "5qt_sT9MKHDk"
      },
      "execution_count": null,
      "outputs": []
    },
    {
      "cell_type": "code",
      "source": [
        "# Divisione per tipo di host\n",
        "superhost = listings[listings['host_is_superhost'] == 't'].copy()\n",
        "non_superhost = listings[listings['host_is_superhost'] == 'f'].copy()\n",
        "\n",
        "print(f\"\\nDistribuzione per tipo di host:\")\n",
        "print(f\"- Superhost: {len(superhost)} ({len(superhost)/len(listings)*100:.1f}%)\")\n",
        "print(f\"- Host regolari: {len(non_superhost)} ({len(non_superhost)/len(listings)*100:.1f}%)\")\n",
        "\n",
        "sns.countplot(data=listings, x='host_is_superhost', stat='percent')\n",
        "plt.show()"
      ],
      "metadata": {
        "id": "SVTZNVbkKT4K"
      },
      "execution_count": null,
      "outputs": []
    },
    {
      "cell_type": "code",
      "source": [
        "# Conteggio per tipo di stanza\n",
        "print(f\"\\nDistribuzione tipi di stanza:\")\n",
        "print(listings['room_type'].value_counts())\n",
        "\n",
        "sns.countplot(data=listings, x='room_type', stat='percent')\n",
        "plt.show()"
      ],
      "metadata": {
        "id": "V96b4p56KlfD"
      },
      "execution_count": null,
      "outputs": []
    },
    {
      "cell_type": "markdown",
      "source": [
        "## Statistiche descrittive"
      ],
      "metadata": {
        "id": "EFMOt9UKLbuE"
      }
    },
    {
      "cell_type": "code",
      "source": [
        "# Statistiche prezzi\n",
        "print(\"\\nPREZZI ($) - SUPERHOST:\")\n",
        "superhost_price_stats = superhost['price_clean'].describe()\n",
        "for stat, value in superhost_price_stats.items():\n",
        "    if stat == 'count':\n",
        "        print(f\"  {stat.capitalize():<6}: {value:.0f}\")\n",
        "    else:\n",
        "        print(f\"  {stat.capitalize():<6}: ${value:.2f}\")\n",
        "\n",
        "print(\"\\nPREZZI ($) - HOST REGOLARI:\")\n",
        "host_price_stats = non_superhost['price_clean'].describe()\n",
        "for stat, value in host_price_stats.items():\n",
        "    if stat == 'count':\n",
        "        print(f\"  {stat.capitalize():<6}: {value:.0f}\")\n",
        "    else:\n",
        "        print(f\"  {stat.capitalize():<6}: ${value:.2f}\")"
      ],
      "metadata": {
        "id": "KJz4gvXHLdsU"
      },
      "execution_count": null,
      "outputs": []
    },
    {
      "cell_type": "code",
      "source": [
        "# Statistiche review scores (rimuovendo valori null)\n",
        "superhost_reviews = superhost['review_scores_rating'].dropna()\n",
        "host_reviews = non_superhost['review_scores_rating'].dropna()\n",
        "\n",
        "print(\"\\nREVIEW SCORES - SUPERHOST:\")\n",
        "for stat, value in superhost_reviews.describe().items():\n",
        "    print(f\"  {stat.capitalize():<6}: {value:.2f}\")\n",
        "\n",
        "print(\"\\nREVIEW SCORES - HOST REGOLARI:\")\n",
        "for stat, value in host_reviews.describe().items():\n",
        "    print(f\"  {stat.capitalize():<6}: {value:.2f}\")"
      ],
      "metadata": {
        "id": "iioCnHzGM737"
      },
      "execution_count": null,
      "outputs": []
    },
    {
      "cell_type": "code",
      "source": [
        "# Statistiche numero recensioni\n",
        "print(\"\\nNUMERO RECENSIONI - SUPERHOST:\")\n",
        "superhost_count_stats = superhost['review_count'].describe()\n",
        "for stat, value in superhost_count_stats.items():\n",
        "    print(f\"  {stat.capitalize():<6}: {value:.2f}\")\n",
        "\n",
        "print(\"\\nNUMERO RECENSIONI - HOST REGOLARI:\")\n",
        "host_count_stats = non_superhost['review_count'].describe()\n",
        "for stat, value in host_count_stats.items():\n",
        "    print(f\"  {stat.capitalize():<6}: {value:.2f}\")"
      ],
      "metadata": {
        "id": "V8G0vaNuNHpo"
      },
      "execution_count": null,
      "outputs": []
    },
    {
      "cell_type": "markdown",
      "source": [
        "## Grafici"
      ],
      "metadata": {
        "id": "xoEWnPc7NtYx"
      }
    },
    {
      "cell_type": "code",
      "source": [
        "# 1. Prezzo medio per tipo di stanza\n",
        "plt.figure(figsize=(10, 6))\n",
        "sns.barplot(data=listings, x='room_type', y='price_clean')\n",
        "plt.title('Prezzo medio per tipo di stanza')\n",
        "plt.xlabel('Tipo di Stanza')\n",
        "plt.ylabel('Prezzo Medio ($)')\n",
        "plt.xticks(rotation=45)\n",
        "plt.tight_layout()\n",
        "plt.show()"
      ],
      "metadata": {
        "id": "TZ9vZDoENqdk"
      },
      "execution_count": null,
      "outputs": []
    },
    {
      "cell_type": "code",
      "source": [
        "# 2. Distribuzione numero persone ospitabili per tipo stanza\n",
        "selected_rooms = listings[listings['room_type'].isin(['Private room', 'Entire home/apt'])].copy()\n",
        "\n",
        "plt.figure(figsize=(12, 6))\n",
        "sns.countplot(\n",
        "    data=selected_rooms,\n",
        "    x='accommodates',\n",
        "    hue='room_type',\n",
        "    order=sorted(selected_rooms['accommodates'].unique())\n",
        ")\n",
        "plt.title('Distribuzione del numero di persone ospitabili per tipo di stanza')\n",
        "plt.xlabel('Numero di persone ospitabili')\n",
        "plt.ylabel('Numero di annunci')\n",
        "plt.legend(title='Tipo di stanza')\n",
        "plt.tight_layout()\n",
        "plt.show()"
      ],
      "metadata": {
        "id": "AATgFy9nOoV8"
      },
      "execution_count": null,
      "outputs": []
    },
    {
      "cell_type": "code",
      "source": [
        "# 3. Analisi prezzi per gruppo di persone e tipo di host\n",
        "grouped_host = listings.groupby(['room_type', 'accommodates_group', 'host_is_superhost']).agg(\n",
        "    mean_price=('price_clean', 'mean')\n",
        ").reset_index()\n",
        "\n",
        "# Conversione per calcoli numerici\n",
        "grouped_host['accommodates_numeric'] = grouped_host['accommodates_group'].replace({'8 o più': 8}).astype(int)\n",
        "grouped_host['price_per_person'] = grouped_host['mean_price'] / grouped_host['accommodates_numeric']\n",
        "\n",
        "# Etichette leggibili\n",
        "grouped_host['Tipo host'] = grouped_host['host_is_superhost'].map({'t': 'Superhost', 'f': 'Host'})\n",
        "grouped_host = grouped_host.rename(columns={\n",
        "    'room_type': 'Tipo stanza',\n",
        "    'accommodates_group': 'Numero persone (gruppo)',\n",
        "    'mean_price': 'Prezzo medio ($)',\n",
        "    'price_per_person': 'Prezzo per persona ($)'\n",
        "})\n",
        "\n",
        "# Arrotondamento valori\n",
        "grouped_host[['Prezzo medio ($)', 'Prezzo per persona ($)']] = grouped_host[[\n",
        "    'Prezzo medio ($)', 'Prezzo per persona ($)'\n",
        "]].round(2)\n",
        "\n",
        "# Stampa tabella riepilogativa\n",
        "print(\"\\nTabella con confronto tra Host e Superhost:\")\n",
        "print(grouped_host[['Tipo stanza', 'Numero persone (gruppo)', 'Tipo host',\n",
        "                   'Prezzo medio ($)', 'Prezzo per persona ($)']].to_string(index=False))"
      ],
      "metadata": {
        "id": "e5dQ9N-4Owvr"
      },
      "execution_count": null,
      "outputs": []
    },
    {
      "cell_type": "code",
      "source": [
        "# 4. Grafici comparativi prezzo medio\n",
        "g1 = sns.FacetGrid(\n",
        "    grouped_host, col='Tipo stanza', hue='Tipo host',\n",
        "    height=5, aspect=1.3, margin_titles=True\n",
        ")\n",
        "g1.map(sns.lineplot, 'Numero persone (gruppo)', 'Prezzo medio ($)', marker='o')\n",
        "g1.add_legend(title='Tipo host')\n",
        "g1.set_axis_labels(\"Numero persone (gruppo)\", \"Prezzo medio ($)\")\n",
        "g1.fig.subplots_adjust(top=0.85)\n",
        "g1.fig.suptitle(\"Prezzo medio per gruppo - Host vs Superhost\", fontsize=16)\n",
        "plt.show()"
      ],
      "metadata": {
        "id": "vP22aKjPPYRX"
      },
      "execution_count": null,
      "outputs": []
    },
    {
      "cell_type": "code",
      "source": [
        "# 5. Grafici comparativi prezzo per persona\n",
        "g2 = sns.FacetGrid(\n",
        "    grouped_host, col='Tipo stanza', hue='Tipo host',\n",
        "    height=5, aspect=1.3, margin_titles=True\n",
        ")\n",
        "g2.map(sns.lineplot, 'Numero persone (gruppo)', 'Prezzo per persona ($)', marker='o')\n",
        "g2.add_legend(title='Tipo host')\n",
        "g2.set_axis_labels(\"Numero persone (gruppo)\", \"Prezzo per persona ($)\")\n",
        "g2.fig.subplots_adjust(top=0.85)\n",
        "g2.fig.suptitle(\"Prezzo medio per persona - Host vs Superhost\", fontsize=16)\n",
        "plt.show()"
      ],
      "metadata": {
        "id": "CWxfjI28PhDL"
      },
      "execution_count": null,
      "outputs": []
    },
    {
      "cell_type": "code",
      "source": [
        "# 6. Diagramma Sankey per visualizzare flussi\n",
        "sankey_df = listings.copy()\n",
        "sankey_df['host_type'] = sankey_df['host_is_superhost'].map({'t': 'Superhost', 'f': 'Host'})\n",
        "\n",
        "# Preparazione dati per Sankey\n",
        "cols = ['host_type', 'room_type', 'accommodates_group']\n",
        "flow_counts = sankey_df.groupby(cols).size().reset_index(name='count')\n",
        "\n",
        "# Creazione etichette e mapping\n",
        "labels = pd.unique(flow_counts[cols[0]].tolist() +\n",
        "                  flow_counts[cols[1]].tolist() +\n",
        "                  flow_counts[cols[2]].tolist())\n",
        "label_dict = {label: i for i, label in enumerate(labels)}\n",
        "\n",
        "# Creazione collegamenti per il diagramma\n",
        "source, target, value = [], [], []\n",
        "\n",
        "# Collegamenti host_type → room_type\n",
        "level1 = flow_counts.groupby([cols[0], cols[1]])['count'].sum().reset_index()\n",
        "for _, row in level1.iterrows():\n",
        "    source.append(label_dict[row[cols[0]]])\n",
        "    target.append(label_dict[row[cols[1]]])\n",
        "    value.append(row['count'])\n",
        "\n",
        "# Collegamenti room_type → accommodates_group\n",
        "level2 = flow_counts.groupby([cols[1], cols[2]])['count'].sum().reset_index()\n",
        "for _, row in level2.iterrows():\n",
        "    source.append(label_dict[row[cols[1]]])\n",
        "    target.append(label_dict[row[cols[2]]])\n",
        "    value.append(row['count'])\n",
        "\n",
        "# Assegnazione colori ai collegamenti\n",
        "color_palette = pc.qualitative.Set3\n",
        "link_colors = [color_palette[i % len(color_palette)] for i in range(len(source))]\n",
        "\n",
        "# Creazione e visualizzazione diagramma Sankey\n",
        "fig = go.Figure(data=[go.Sankey(\n",
        "    node=dict(\n",
        "        pad=15, thickness=20,\n",
        "        line=dict(color=\"black\", width=0.5),\n",
        "        label=labels, color=\"lightgray\"\n",
        "    ),\n",
        "    link=dict(\n",
        "        source=source, target=target, value=value,\n",
        "        color=link_colors\n",
        "    )\n",
        ")])\n",
        "\n",
        "fig.update_layout(title_text=\"Flusso: Host → Tipo stanza → Numero persone\", font_size=12)\n",
        "fig.show()"
      ],
      "metadata": {
        "id": "83qWE4M4PnRf"
      },
      "execution_count": null,
      "outputs": []
    },
    {
      "cell_type": "code",
      "source": [
        "# 7. Confronto tipi di alloggi offerti da host e superhost\n",
        "plt.figure(figsize=(10, 6))\n",
        "sns.countplot(data=listings, x='host_is_superhost', hue='room_type')\n",
        "plt.title('Tipi di alloggi che offrono host e super host')\n",
        "plt.xlabel('Tipo di Host (f=Host, t=Superhost)')\n",
        "plt.ylabel('Numero di alloggi')\n",
        "plt.show()"
      ],
      "metadata": {
        "id": "CKizdK25P6b-"
      },
      "execution_count": null,
      "outputs": []
    },
    {
      "cell_type": "code",
      "source": [
        "# 8. Confronto tempi di risposta\n",
        "fig, axes = plt.subplots(1, 2, figsize=(15, 6))\n",
        "\n",
        "# Superhost tempi di risposta\n",
        "superhost_response = superhost['host_response_time'].value_counts(normalize=True)\n",
        "sns.barplot(x=superhost_response.index, y=superhost_response.values, ax=axes[0])\n",
        "axes[0].set_title('Tempi di risposta - Superhost')\n",
        "axes[0].set_xlabel('Tempo di risposta')\n",
        "axes[0].set_ylabel('Percentuale')\n",
        "axes[0].tick_params(axis='x', rotation=45)\n",
        "\n",
        "# Host regolari tempi di risposta\n",
        "host_response = non_superhost['host_response_time'].value_counts(normalize=True)\n",
        "sns.barplot(x=host_response.index, y=host_response.values, ax=axes[1])\n",
        "axes[1].set_title('Tempi di risposta - Host regolari')\n",
        "axes[1].set_xlabel('Tempo di risposta')\n",
        "axes[1].set_ylabel('Percentuale')\n",
        "axes[1].tick_params(axis='x', rotation=45)\n",
        "\n",
        "plt.tight_layout()\n",
        "plt.show()"
      ],
      "metadata": {
        "id": "eCBKzdptQCfU"
      },
      "execution_count": null,
      "outputs": []
    },
    {
      "cell_type": "markdown",
      "source": [
        "## Analisi Amenities"
      ],
      "metadata": {
        "id": "7CMrwdq0QX0H"
      }
    },
    {
      "cell_type": "code",
      "source": [
        "# Parsing amenities per superhost\n",
        "all_amenities_super = []\n",
        "for item in superhost['amenities'].dropna():\n",
        "    item = item.strip('{}, []').replace('\"', '').split(',')\n",
        "    all_amenities_super.extend([x.strip() for x in item])\n",
        "superhost_amenities = Counter(all_amenities_super)\n",
        "\n",
        "# Parsing amenities per host regolari\n",
        "all_amenities_host = []\n",
        "for item in non_superhost['amenities'].dropna():\n",
        "    item = item.strip('{}').replace('\"', '').split(',')\n",
        "    all_amenities_host.extend([x.strip() for x in item])\n",
        "host_amenities = Counter(all_amenities_host)"
      ],
      "metadata": {
        "id": "OAmx_K6IQSY6"
      },
      "execution_count": null,
      "outputs": []
    },
    {
      "cell_type": "code",
      "source": [
        "# Calcolo percentuali top 20 amenities\n",
        "top_amenities_super = pd.Series({k: v/len(superhost) for k, v in superhost_amenities.items()}).sort_values(ascending=False).head(20)\n",
        "top_amenities_host = pd.Series({k: v/len(non_superhost) for k, v in host_amenities.items()}).sort_values(ascending=False).head(20)\n",
        "\n",
        "print(\"\\nTop 20 Amenities Superhost (percentuale):\")\n",
        "for amenities, pct in top_amenities_super.items():\n",
        "    print(f\"  {amenities}: {pct:.1%}\")\n",
        "\n",
        "print(\"\\nTop 20 Amenities Host regolari (percentuale):\")\n",
        "for amenities, pct in top_amenities_host.items():\n",
        "    print(f\"  {amenities}: {pct:.1%}\")"
      ],
      "metadata": {
        "id": "fyuu4wVDQhXS"
      },
      "execution_count": null,
      "outputs": []
    },
    {
      "cell_type": "code",
      "source": [
        "# Creazione dataframe per confronto grafico\n",
        "df_amenities = pd.DataFrame({\n",
        "    'Superhost': top_amenities_super,\n",
        "    'Host regolari': top_amenities_host\n",
        "}).fillna(0)\n",
        "\n",
        "# Grafico comparativo amenities\n",
        "plt.figure(figsize=(12, 6))\n",
        "df_amenities.plot(kind='bar', figsize=(12, 6))\n",
        "plt.title(\"Percentuale Top 20 Amenities - Superhost vs Host regolari\")\n",
        "plt.xlabel(\"Percentuale di annunci\")\n",
        "plt.ylabel(\"Amenities\")\n",
        "plt.xticks(rotation=45, ha='right')\n",
        "plt.legend(title='Tipo Host')\n",
        "plt.tight_layout()\n",
        "plt.show()"
      ],
      "metadata": {
        "id": "SZq8MYd_Qq8E"
      },
      "execution_count": null,
      "outputs": []
    },
    {
      "cell_type": "code",
      "source": [
        "# Aggrega il numero di recensioni per host\n",
        "host_reviews = listings.groupby('host_id')['review_count'].sum().reset_index()\n",
        "\n",
        "# Unisci con info host (amenities + superhost)\n",
        "host_data = listings[['host_id', 'amenities', 'host_is_superhost']].drop_duplicates()\n",
        "host_info = pd.merge(host_reviews, host_data, on='host_id', how='left')\n",
        "\n",
        "# Parsing semplice delle amenities\n",
        "host_info['parsed_amenities'] = host_info['amenities'].fillna('').apply(\n",
        "    lambda x: [a.strip() for a in x.strip('{},[]').replace('\"', '').split(',') if a.strip()]\n",
        ")\n",
        "\n",
        "# Esplosione su ogni amenities\n",
        "host_amenities = host_info.explode('parsed_amenities')\n",
        "host_amenities = host_amenities[host_amenities['parsed_amenities'] != '']\n",
        "\n",
        "# Aggregazione: somma recensioni per amenities + tipo host\n",
        "agg = host_amenities.groupby(['parsed_amenities', 'host_is_superhost'])['review_count'].sum().reset_index()\n",
        "agg.columns = ['amenities', 'Tipo Host', 'Totale Recensioni']\n",
        "\n",
        "# Mappatura tipo host leggibile\n",
        "agg['Tipo Host'] = agg['Tipo Host'].map({'t': 'Superhost', 'f': 'Host Regolare'})\n",
        "\n",
        "# Top amenities per Superhost\n",
        "top_n = 20\n",
        "top_amenities = (\n",
        "    agg[agg['Tipo Host'] == 'Superhost']\n",
        "    .sort_values('Totale Recensioni', ascending=False)\n",
        "    .head(top_n)['amenities']\n",
        "    .tolist()\n",
        ")\n",
        "\n",
        "\n",
        "# Filtro solo sulle top amenities per il confronto\n",
        "filtered = agg[agg['amenities'].isin(top_amenities)].copy()\n",
        "\n",
        "# Ordina le amenities per Totale Recensioni dei Superhost\n",
        "order = (\n",
        "    filtered[filtered['Tipo Host'] == 'Superhost']\n",
        "    .sort_values('Totale Recensioni', ascending=False)['amenities']\n",
        "    .tolist()\n",
        ")\n",
        "\n",
        "# Imposta l'ordinamento nelle categorie per l’asse Y\n",
        "filtered['amenities'] = pd.Categorical(filtered['amenities'], categories=order, ordered=True)\n",
        "\n",
        "# Plot con Seaborn\n",
        "plt.figure(figsize=(12, 6))\n",
        "sns.barplot(\n",
        "    data=filtered,\n",
        "    x='Totale Recensioni',\n",
        "    y='amenities',\n",
        "    hue='Tipo Host',\n",
        "    palette='magma'\n",
        ")\n",
        "\n",
        "plt.title(f\"Totale Recensioni per Top {top_n} Amenities - Superhost vs Host Regolare\", fontsize=14)\n",
        "plt.xlabel(\"Totale Recensioni\")\n",
        "plt.ylabel(\"amenities\")\n",
        "plt.legend(title=\"Tipo Host\")\n",
        "plt.tight_layout()\n",
        "plt.show()"
      ],
      "metadata": {
        "id": "Ok9w5LyKnFNl"
      },
      "execution_count": null,
      "outputs": []
    },
    {
      "cell_type": "markdown",
      "source": [
        "## Analisi distribuzione recensioni"
      ],
      "metadata": {
        "id": "KLrJpCosQ31C"
      }
    },
    {
      "cell_type": "code",
      "source": [
        "# Statistiche recensioni superhost\n",
        "super_with_reviews = (superhost['review_count'] > 0).mean()\n",
        "super_many_reviews = (superhost['review_count'] > 10).mean()\n",
        "\n",
        "print(f\"\\nSuperhost:\")\n",
        "print(f\"  Annunci con almeno 1 recensione: {super_with_reviews:.2%}\")\n",
        "print(f\"  Annunci con più di 10 recensioni: {super_many_reviews:.2%}\")\n",
        "\n",
        "# Statistiche recensioni host regolari\n",
        "host_with_reviews = (non_superhost['review_count'] > 0).mean()\n",
        "host_many_reviews = (non_superhost['review_count'] > 10).mean()\n",
        "\n",
        "print(f\"\\nHost regolari:\")\n",
        "print(f\"  Annunci con almeno 1 recensione: {host_with_reviews:.2%}\")\n",
        "print(f\"  Annunci con più di 10 recensioni: {host_many_reviews:.2%}\")"
      ],
      "metadata": {
        "id": "Jfu2aBh-Q3Nj"
      },
      "execution_count": null,
      "outputs": []
    },
    {
      "cell_type": "code",
      "source": [
        "!pip install folium geopandas\n",
        "\n",
        "import folium\n",
        "from folium.plugins import MarkerCluster\n",
        "from branca.element import Template, MacroElement\n",
        "\n",
        "# Calcolo totale recensioni per ogni location\n",
        "location_reviews = listings.groupby(\n",
        "    ['id', 'name', 'latitude', 'longitude', 'host_is_superhost', 'price_clean']\n",
        ")['review_count'].sum().reset_index()\n",
        "location_reviews.rename(columns={'review_count': 'total_reviews'}, inplace=True)\n",
        "\n",
        "# Prendi le top 100 location per numero di recensioni\n",
        "top_100_locations = location_reviews.sort_values(by='total_reviews', ascending=False).head(100).copy()\n",
        "\n",
        "# Crea mappa centrata sulla Sicilia\n",
        "sicily_center = [37.5, 14.0]\n",
        "m = folium.Map(location=sicily_center, zoom_start=8)\n",
        "\n",
        "# Aggiungi MarkerCluster\n",
        "marker_cluster = MarkerCluster().add_to(m)\n",
        "\n",
        "# Colori per host e superhost\n",
        "host_color = 'blue'\n",
        "superhost_color = 'red'\n",
        "\n",
        "# Aggiungi marker per ogni location\n",
        "for _, row in top_100_locations.iterrows():\n",
        "    host_type = 'Superhost' if row['host_is_superhost'] == 't' else 'Host'\n",
        "    marker_color = superhost_color if row['host_is_superhost'] == 't' else host_color\n",
        "    popup_text = f\"\"\"\n",
        "    <b>{row['name']}</b><br>\n",
        "    Tipo Host: {host_type}<br>\n",
        "    Recensioni totali: {int(row['total_reviews'])}<br>\n",
        "    Prezzo: ${row['price_clean']:.2f}\n",
        "    \"\"\"\n",
        "    folium.Marker(\n",
        "        location=[row['latitude'], row['longitude']],\n",
        "        popup=folium.Popup(popup_text, max_width=300),\n",
        "        icon=folium.Icon(color=marker_color)\n",
        "    ).add_to(marker_cluster)\n",
        "\n",
        "# Aggiungi legenda semplice\n",
        "template = f\"\"\"\n",
        "{{% macro html(this, kwargs) %}}\n",
        "<div style=\"position: fixed; bottom: 50px; left: 50px; width: 150px; z-index:9999; font-size:14px;\">\n",
        "  &nbsp; Legenda <br>\n",
        "  &nbsp; <i class=\"fa fa-map-marker fa-2x\" style=\"color:{superhost_color}\"></i>&nbsp; Superhost <br>\n",
        "  &nbsp; <i class=\"fa fa-map-marker fa-2x\" style=\"color:{host_color}\"></i>&nbsp; Host <br>\n",
        "</div>\n",
        "{{% endmacro %}}\n",
        "\"\"\"\n",
        "macro = MacroElement()\n",
        "macro._template = Template(template)\n",
        "m.get_root().add_child(macro)\n",
        "\n",
        "# Visualizza la mappa\n",
        "m\n"
      ],
      "metadata": {
        "id": "_oFwJxXul_29"
      },
      "execution_count": null,
      "outputs": []
    },
    {
      "cell_type": "code",
      "source": [
        "from folium.plugins import HeatMap\n",
        "\n",
        "# Calcolo totale recensioni per ogni location\n",
        "location_reviews = listings.groupby(\n",
        "    ['id', 'name', 'latitude', 'longitude', 'host_is_superhost', 'price_clean']\n",
        ")['review_count'].sum().reset_index()\n",
        "location_reviews.rename(columns={'review_count': 'total_reviews'}, inplace=True)\n",
        "\n",
        "# Prendi le location per numero di recensioni\n",
        "top_100_locations = location_reviews.sort_values(by='total_reviews', ascending=False).copy()\n",
        "\n",
        "# Crea mappa centrata sulla Sicilia\n",
        "sicily_center = [37.5, 14.0]\n",
        "m = folium.Map(location=sicily_center, zoom_start=8)\n",
        "\n",
        "# Prepara i dati per la heatmap: [lat, lon, peso]\n",
        "heat_data = [\n",
        "    [row['latitude'], row['longitude'], row['total_reviews']]\n",
        "    for _, row in top_100_locations.iterrows()\n",
        "]\n",
        "\n",
        "# Aggiungi HeatMap\n",
        "HeatMap(heat_data, radius=15, max_zoom=12).add_to(m)\n",
        "\n",
        "# Visualizza la mappa\n",
        "m\n"
      ],
      "metadata": {
        "id": "UTEYZbnb3bBr"
      },
      "execution_count": null,
      "outputs": []
    },
    {
      "cell_type": "code",
      "source": [
        "# Filtra il dataframe per includere solo i superhost\n",
        "superhost_locations = listings[listings['host_is_superhost'] == 't'].copy()\n",
        "\n",
        "# Calcola il totale recensioni per ogni location dei superhost\n",
        "location_reviews_superhost = superhost_locations.groupby(\n",
        "    ['id', 'name', 'latitude', 'longitude', 'price_clean']\n",
        ")['review_count'].sum().reset_index()\n",
        "location_reviews_superhost.rename(columns={'review_count': 'total_reviews'}, inplace=True)\n",
        "\n",
        "# Prendi le location per numero di recensioni (non solo top 100, prendiamo tutti i superhost)\n",
        "sorted_superhost_locations = location_reviews_superhost.sort_values(by='total_reviews', ascending=False).copy()\n",
        "\n",
        "# Crea mappa centrata sulla Sicilia\n",
        "sicily_center = [37.5, 14.0]\n",
        "m_superhost_heatmap = folium.Map(location=sicily_center, zoom_start=8)\n",
        "\n",
        "# Prepara i dati per la heatmap: [lat, lon, peso]\n",
        "# Usa il numero di recensioni come peso per la heatmap\n",
        "heat_data_superhost = [\n",
        "    [row['latitude'], row['longitude'], row['total_reviews']]\n",
        "    for _, row in sorted_superhost_locations.iterrows()\n",
        "]\n",
        "\n",
        "# Aggiungi HeatMap solo per i superhost\n",
        "HeatMap(heat_data_superhost, radius=15, max_zoom=12).add_to(m_superhost_heatmap)\n",
        "\n",
        "# Visualizza la mappa dei superhost\n",
        "print(\"Heatmap solo per Superhost:\")\n",
        "m_superhost_heatmap"
      ],
      "metadata": {
        "id": "bcbLAEZnbFhQ"
      },
      "execution_count": null,
      "outputs": []
    }
  ]
}